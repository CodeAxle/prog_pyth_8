{
 "cells": [
  {
   "cell_type": "markdown",
   "id": "bedd7e64",
   "metadata": {},
   "source": [
    "# 1."
   ]
  },
  {
   "cell_type": "code",
   "execution_count": 1,
   "id": "7055203c",
   "metadata": {},
   "outputs": [
    {
     "name": "stdout",
     "output_type": "stream",
     "text": [
      "Result Matrix:\n",
      "[10, 10, 10]\n",
      "[10, 10, 10]\n",
      "[10, 10, 10]\n"
     ]
    }
   ],
   "source": [
    "# code:\n",
    "def add_matrices(matrix1, matrix2):\n",
    "    # Check if the matrices have the same dimensions\n",
    "    if len(matrix1) != len(matrix2) or len(matrix1[0]) != len(matrix2[0]):\n",
    "        return None  # Matrices cannot be added\n",
    "    \n",
    "    # Initialize an empty result matrix with the same dimensions as input matrices\n",
    "    result = [[0 for _ in range(len(matrix1[0]))] for _ in range(len(matrix1))]\n",
    "    \n",
    "    # Iterate through the rows and columns of the matrices\n",
    "    for i in range(len(matrix1)):\n",
    "        for j in range(len(matrix1[0])):\n",
    "            # Add corresponding elements from both matrices and store the result in the result matrix\n",
    "            result[i][j] = matrix1[i][j] + matrix2[i][j]\n",
    "    \n",
    "    return result\n",
    "\n",
    "# Example matrices\n",
    "matrix1 = [[1, 2, 3],\n",
    "           [4, 5, 6],\n",
    "           [7, 8, 9]]\n",
    "\n",
    "matrix2 = [[9, 8, 7],\n",
    "           [6, 5, 4],\n",
    "           [3, 2, 1]]\n",
    "\n",
    "# Add the matrices\n",
    "result_matrix = add_matrices(matrix1, matrix2)\n",
    "\n",
    "# Print the result matrix\n",
    "if result_matrix:\n",
    "    print(\"Result Matrix:\")\n",
    "    for row in result_matrix:\n",
    "        print(row)\n",
    "else:\n",
    "    print(\"Matrices cannot be added due to different dimensions.\")"
   ]
  },
  {
   "cell_type": "markdown",
   "id": "c8087fc7",
   "metadata": {},
   "source": [
    "# 2."
   ]
  },
  {
   "cell_type": "code",
   "execution_count": 3,
   "id": "c7062808",
   "metadata": {},
   "outputs": [
    {
     "name": "stdout",
     "output_type": "stream",
     "text": [
      "Result Matrix:\n",
      "[30, 24, 18]\n",
      "[84, 69, 54]\n",
      "[78, 62, 46]\n"
     ]
    }
   ],
   "source": [
    "# code:\n",
    "def multiply_matrices(matrix1, matrix2):\n",
    "    # Check if the matrices can be multiplied\n",
    "    if len(matrix1[0]) != len(matrix2):\n",
    "        return None  # Matrices cannot be multiplied\n",
    "    \n",
    "    # Initialize an empty result matrix with appropriate dimensions\n",
    "    result = [[0 for _ in range(len(matrix2[0]))] for _ in range(len(matrix1))]\n",
    "    \n",
    "    # Iterate through the rows of the first matrix\n",
    "    for i in range(len(matrix1)):\n",
    "        # Iterate through the columns of the second matrix\n",
    "        for j in range(len(matrix2[0])):\n",
    "            # Iterate through the rows of the second matrix\n",
    "            for k in range(len(matrix2)):\n",
    "                # Multiply corresponding elements and add to the result matrix\n",
    "                result[i][j] += matrix1[i][k] * matrix2[k][j]\n",
    "    \n",
    "    return result\n",
    "\n",
    "# Example matrices\n",
    "matrix1 = [[1, 2, 3],\n",
    "           [4, 5, 6],\n",
    "           [3, 4, 9]]\n",
    "\n",
    "matrix2 = [[9, 8, 7],\n",
    "           [6, 5, 4],\n",
    "           [3, 2, 1]]\n",
    "\n",
    "# Multiply the matrices\n",
    "result_matrix = multiply_matrices(matrix1, matrix2)\n",
    "\n",
    "# Print the result matrix\n",
    "if result_matrix:\n",
    "    print(\"Result Matrix:\")\n",
    "    for row in result_matrix:\n",
    "        print(row)\n",
    "else:\n",
    "    print(\"Matrices cannot be multiplied due to incompatible dimensions.\")"
   ]
  },
  {
   "cell_type": "markdown",
   "id": "4d6d3d89",
   "metadata": {},
   "source": [
    "# 3."
   ]
  },
  {
   "cell_type": "code",
   "execution_count": 5,
   "id": "4af40315",
   "metadata": {},
   "outputs": [
    {
     "name": "stdout",
     "output_type": "stream",
     "text": [
      "Original Matrix:\n",
      "[1, 2, 2]\n",
      "[3, 1, 2]\n",
      "[3, 3, 1]\n",
      "\n",
      "Transposed Matrix:\n",
      "[1, 3, 3]\n",
      "[2, 1, 3]\n",
      "[2, 2, 1]\n"
     ]
    }
   ],
   "source": [
    "# code:\n",
    "def transpose_matrix(matrix):\n",
    "    # Calculate the number of rows and columns in the input matrix\n",
    "    rows = len(matrix)\n",
    "    cols = len(matrix[0])\n",
    "    \n",
    "    # Initialize an empty result matrix with swapped dimensions\n",
    "    result = [[0 for _ in range(rows)] for _ in range(cols)]\n",
    "    \n",
    "    # Iterate through the rows of the input matrix\n",
    "    for i in range(rows):\n",
    "        # Iterate through the columns of the input matrix\n",
    "        for j in range(cols):\n",
    "            # Swap rows and columns while populating the result matrix\n",
    "            result[j][i] = matrix[i][j]\n",
    "    \n",
    "    return result\n",
    "\n",
    "# Example matrix\n",
    "matrix = [[1, 2, 2],\n",
    "          [3, 1, 2],\n",
    "          [3, 3, 1]]\n",
    "\n",
    "# Transpose the matrix\n",
    "transposed_matrix = transpose_matrix(matrix)\n",
    "\n",
    "# Print the original and transposed matrices\n",
    "print(\"Original Matrix:\")\n",
    "for row in matrix:\n",
    "    print(row)\n",
    "\n",
    "print(\"\\nTransposed Matrix:\")\n",
    "for row in transposed_matrix:\n",
    "    print(row)"
   ]
  },
  {
   "cell_type": "markdown",
   "id": "a72bd5f3",
   "metadata": {},
   "source": [
    "# 4."
   ]
  },
  {
   "cell_type": "code",
   "execution_count": 7,
   "id": "7cad64de",
   "metadata": {},
   "outputs": [
    {
     "name": "stdout",
     "output_type": "stream",
     "text": [
      "Original Sentence:\n",
      "Python program to sort words in alphabetical order\n",
      "\n",
      "Sorted Sentence:\n",
      "Python alphabetical in order program sort to words\n"
     ]
    }
   ],
   "source": [
    "# code:\n",
    "def sort_words(sentence):\n",
    "    # Split the sentence into words\n",
    "    words = sentence.split()\n",
    "    \n",
    "    # Sort the words in alphabetical order\n",
    "    sorted_words = sorted(words)\n",
    "    \n",
    "    # Join the sorted words back into a sentence\n",
    "    sorted_sentence = ' '.join(sorted_words)\n",
    "    \n",
    "    return sorted_sentence\n",
    "\n",
    "# Example sentence\n",
    "sentence = \"Python program to sort words in alphabetical order\"\n",
    "\n",
    "# Sort the words in the sentence\n",
    "sorted_sentence = sort_words(sentence)\n",
    "\n",
    "# Print the sorted sentence\n",
    "print(\"Original Sentence:\")\n",
    "print(sentence)\n",
    "\n",
    "print(\"\\nSorted Sentence:\")\n",
    "print(sorted_sentence)"
   ]
  },
  {
   "cell_type": "markdown",
   "id": "eb2398f1",
   "metadata": {},
   "source": [
    "# 5."
   ]
  },
  {
   "cell_type": "code",
   "execution_count": 8,
   "id": "4422e87b",
   "metadata": {},
   "outputs": [
    {
     "name": "stdout",
     "output_type": "stream",
     "text": [
      "Original String:\n",
      "Hello, world! This is a test string with punctuation.\n",
      "\n",
      "Cleaned String:\n",
      "Hello world This is a test string with punctuation\n"
     ]
    }
   ],
   "source": [
    "# code:\n",
    "import string\n",
    "\n",
    "def remove_punctuation(input_string):\n",
    "    # Create a translation table to remove punctuation\n",
    "    translator = str.maketrans('', '', string.punctuation)\n",
    "    \n",
    "    # Remove punctuation from the input string\n",
    "    cleaned_string = input_string.translate(translator)\n",
    "    \n",
    "    return cleaned_string\n",
    "\n",
    "# Example input string with punctuation\n",
    "input_string = \"Hello, world! This is a test string with punctuation.\"\n",
    "\n",
    "# Remove punctuation from the input string\n",
    "cleaned_string = remove_punctuation(input_string)\n",
    "\n",
    "# Print the original and cleaned strings\n",
    "print(\"Original String:\")\n",
    "print(input_string)\n",
    "\n",
    "print(\"\\nCleaned String:\")\n",
    "print(cleaned_string)"
   ]
  },
  {
   "cell_type": "code",
   "execution_count": null,
   "id": "22c90195",
   "metadata": {},
   "outputs": [],
   "source": []
  }
 ],
 "metadata": {
  "kernelspec": {
   "display_name": "Python 3 (ipykernel)",
   "language": "python",
   "name": "python3"
  },
  "language_info": {
   "codemirror_mode": {
    "name": "ipython",
    "version": 3
   },
   "file_extension": ".py",
   "mimetype": "text/x-python",
   "name": "python",
   "nbconvert_exporter": "python",
   "pygments_lexer": "ipython3",
   "version": "3.11.5"
  }
 },
 "nbformat": 4,
 "nbformat_minor": 5
}
